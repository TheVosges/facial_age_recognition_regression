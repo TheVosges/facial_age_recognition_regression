{
 "cells": [
  {
   "cell_type": "markdown",
   "metadata": {
    "pycharm": {
     "is_executing": true
    },
    "scrolled": true
   },
   "source": [
    "# Age recognition with regression"
   ]
  },
  {
   "cell_type": "markdown",
   "metadata": {},
   "source": [
    "## Import essential pckg"
   ]
  },
  {
   "cell_type": "code",
   "execution_count": 1,
   "metadata": {},
   "outputs": [],
   "source": [
    "import numpy as np\n",
    "import pandas as pd\n",
    "import matplotlib.image as mpimg\n",
    "import matplotlib.pyplot as plt\n",
    "from matplotlib import pyplot as plt\n",
    "import os\n",
    "import sys\n",
    "import tensorflow as tf\n",
    "from PIL import Image\n",
    "from sklearn.model_selection import KFold, train_test_split\n",
    "from keras.preprocessing.image import ImageDataGenerator\n",
    "from keras import initializers\n",
    "from keras.callbacks import Callback, ReduceLROnPlateau, EarlyStopping\n",
    "from timeit import default_timer as timer\n",
    "from tensorflow.keras.callbacks import Callback"
   ]
  },
  {
   "cell_type": "markdown",
   "metadata": {},
   "source": [
    "## Load data"
   ]
  },
  {
   "cell_type": "code",
   "execution_count": 2,
   "metadata": {},
   "outputs": [],
   "source": [
    "image_path = os.path.abspath(os.getcwd()) + '/face_age/'\n",
    "X = []\n",
    "Y = []"
   ]
  },
  {
   "cell_type": "markdown",
   "metadata": {},
   "source": [
    "# Preprocessing \n",
    "\n",
    "## Resizing images and converting them to RGB "
   ]
  },
  {
   "cell_type": "code",
   "execution_count": 3,
   "metadata": {},
   "outputs": [],
   "source": [
    "def progressBar(count_value, total):\n",
    "    bar_length = 100\n",
    "    filled_up_Length = int(round(bar_length * count_value / float(total)))\n",
    "    bar = '=' * filled_up_Length + '-' * (bar_length - filled_up_Length)\n",
    "    percentage = round(100.0 * count_value / float(total), 1)\n",
    "    sys.stdout.write('\\r')\n",
    "    sys.stdout.write(\"Processing Images: [%-20s] %d%%  %d/%d\" % (bar, percentage, count_value, total))\n",
    "    sys.stdout.flush()"
   ]
  },
  {
   "cell_type": "code",
   "execution_count": 4,
   "metadata": {},
   "outputs": [],
   "source": [
    "width = 100\n",
    "height = 100"
   ]
  },
  {
   "cell_type": "code",
   "execution_count": 6,
   "metadata": {
    "pycharm": {
     "is_executing": true
    }
   },
   "outputs": [
    {
     "name": "stdout",
     "output_type": "stream",
     "text": [
      "Processing Images:  [====================================================================================================] 100%  19551/19551"
     ]
    }
   ],
   "source": [
    "\n",
    "i = 0\n",
    "for folder_name,_,filenames in os.walk(image_path):    \n",
    "    if folder_name !=\"face_age\" and folder_name != 'Data':\n",
    "        for file in filenames:\n",
    "            i+=1\n",
    "            progressBar(i, 19551)\n",
    "            file_path = folder_name +\"/\"+ file\n",
    "            image = Image.open(file_path)\n",
    "            image = image.convert('RGB')\n",
    "            image = image.resize((width, height))\n",
    "            X.append(np.array(image))\n",
    "            Y.append(int(folder_name[-3:]))\n",
    "    else:\n",
    "        pass"
   ]
  },
  {
   "cell_type": "markdown",
   "metadata": {},
   "source": [
    "## Normalise input data to range [0,1]"
   ]
  },
  {
   "cell_type": "code",
   "execution_count": 7,
   "metadata": {},
   "outputs": [
    {
     "name": "stdout",
     "output_type": "stream",
     "text": [
      "Min: 0.000, Max: 1.000\n"
     ]
    }
   ],
   "source": [
    "X = np.array(X)\n",
    "X = X.astype('float32')\n",
    "X /= 255.0\n",
    "print('Min: %.3f, Max: %.3f' % (X.min(), X.max()))\n",
    "Y = np.array(Y)"
   ]
  },
  {
   "cell_type": "markdown",
   "metadata": {},
   "source": [
    "## Save preprocessed data"
   ]
  },
  {
   "cell_type": "code",
   "execution_count": 5,
   "metadata": {},
   "outputs": [
    {
     "name": "stdout",
     "output_type": "stream",
     "text": [
      "(19551, 100, 100, 3)\n"
     ]
    }
   ],
   "source": [
    "# Save data to folder \n",
    "#np.save('Data/X.npy', X)\n",
    "#np.save('Data/Y.npy',Y)\n",
    "\n",
    "# Load data from folder\n",
    "X = np.load('Data/X.npy')\n",
    "Y = np.load('Data/Y.npy')\n",
    "print(X.shape)"
   ]
  },
  {
   "cell_type": "markdown",
   "metadata": {},
   "source": [
    "## Train, Test, Validation split data with KFold"
   ]
  },
  {
   "cell_type": "code",
   "execution_count": 6,
   "metadata": {},
   "outputs": [],
   "source": [
    "# Cross-validation\n",
    "kfold = KFold(n_splits=5, shuffle=True, random_state=1)"
   ]
  },
  {
   "cell_type": "markdown",
   "metadata": {},
   "source": [
    "## Specify hyperparameters"
   ]
  },
  {
   "cell_type": "code",
   "execution_count": 7,
   "metadata": {},
   "outputs": [],
   "source": [
    "# hyperparameters\n",
    "filter_count = 16\n",
    "lr = 0.01\n",
    "epochs = 100\n",
    "input_shape =[width,height]\n",
    "hidden_nodes = 100"
   ]
  },
  {
   "cell_type": "markdown",
   "metadata": {},
   "source": [
    "## Build model"
   ]
  },
  {
   "cell_type": "code",
   "execution_count": 8,
   "metadata": {},
   "outputs": [],
   "source": [
    "model = tf.keras.Sequential()\n",
    "model.add(tf.keras.layers.Input(X[0].shape))"
   ]
  },
  {
   "cell_type": "code",
   "execution_count": 9,
   "metadata": {},
   "outputs": [],
   "source": [
    "model.add(tf.keras.layers.Conv2D(\n",
    "                        kernel_size=(5,5),\n",
    "                        filters = filter_count,\n",
    "                        strides=2,\n",
    "                        padding='SAME',\n",
    "                        activation=tf.nn.relu,\n",
    "                        kernel_initializer=initializers.GlorotNormal(),\n",
    "                        bias_initializer=tf.zeros_initializer()\n",
    "))"
   ]
  },
  {
   "cell_type": "code",
   "execution_count": 10,
   "metadata": {},
   "outputs": [],
   "source": [
    "model.add(tf.keras.layers.Conv2D(\n",
    "                        filters=filter_count/2,\n",
    "                        kernel_size=1,\n",
    "                        strides=1,\n",
    "                        padding='SAME',\n",
    "                        activation=tf.nn.relu,\n",
    "                        kernel_initializer=initializers.GlorotNormal(),\n",
    "                        bias_initializer=tf.zeros_initializer()\n",
    "))"
   ]
  },
  {
   "cell_type": "code",
   "execution_count": 11,
   "metadata": {},
   "outputs": [],
   "source": [
    "model.add(tf.keras.layers.Conv2D(\n",
    "                        kernel_size=1,\n",
    "                        filters = filter_count,\n",
    "                        strides=1,\n",
    "                        padding='SAME',\n",
    "                        activation=tf.nn.relu,\n",
    "                        kernel_initializer=initializers.GlorotNormal(),\n",
    "                        bias_initializer=tf.zeros_initializer()\n",
    "))"
   ]
  },
  {
   "cell_type": "code",
   "execution_count": 12,
   "metadata": {},
   "outputs": [],
   "source": [
    "model.add(tf.keras.layers.BatchNormalization(\n",
    "                        center=True,\n",
    "                        scale=True\n",
    "))"
   ]
  },
  {
   "cell_type": "code",
   "execution_count": 13,
   "metadata": {},
   "outputs": [],
   "source": [
    "model.add(tf.keras.layers.MaxPool2D(\n",
    "                        pool_size=(2, 2),\n",
    "                        strides=2,\n",
    "                        padding='VALID'\n",
    "))"
   ]
  },
  {
   "cell_type": "code",
   "execution_count": 14,
   "metadata": {},
   "outputs": [],
   "source": [
    "model.add(tf.keras.layers.Conv2D(\n",
    "                        filters=filter_count*2,\n",
    "                        kernel_size=5,\n",
    "                        strides=1,\n",
    "                        padding='SAME',\n",
    "                        activation=tf.nn.relu,\n",
    "                        kernel_initializer=initializers.GlorotNormal(),\n",
    "                        bias_initializer=tf.zeros_initializer()\n",
    "))"
   ]
  },
  {
   "cell_type": "code",
   "execution_count": 15,
   "metadata": {},
   "outputs": [],
   "source": [
    "model.add(tf.keras.layers.BatchNormalization(\n",
    "                        center=True,\n",
    "                        scale=True\n",
    "))"
   ]
  },
  {
   "cell_type": "code",
   "execution_count": 16,
   "metadata": {},
   "outputs": [],
   "source": [
    "model.add(tf.keras.layers.MaxPool2D(\n",
    "                        pool_size=(2, 2),\n",
    "                        strides=2,\n",
    "                        padding='VALID',\n",
    "))"
   ]
  },
  {
   "cell_type": "code",
   "execution_count": 17,
   "metadata": {},
   "outputs": [],
   "source": [
    "model.add(tf.keras.layers.Flatten())"
   ]
  },
  {
   "cell_type": "code",
   "execution_count": 18,
   "metadata": {},
   "outputs": [],
   "source": [
    "model.add(tf.keras.layers.Dense(\n",
    "                        units = hidden_nodes,\n",
    "                        activation=tf.nn.relu,\n",
    "                        kernel_initializer=initializers.GlorotNormal(),\n",
    "                        bias_initializer=tf.zeros_initializer(),\n",
    "))"
   ]
  },
  {
   "cell_type": "code",
   "execution_count": 19,
   "metadata": {},
   "outputs": [],
   "source": [
    "model.add(tf.keras.layers.BatchNormalization(\n",
    "                        center=True,\n",
    "                        scale=True\n",
    "))"
   ]
  },
  {
   "cell_type": "code",
   "execution_count": 20,
   "metadata": {},
   "outputs": [
    {
     "name": "stdout",
     "output_type": "stream",
     "text": [
      "Model: \"sequential\"\n",
      "_________________________________________________________________\n",
      "Layer (type)                 Output Shape              Param #   \n",
      "=================================================================\n",
      "conv2d (Conv2D)              (None, 50, 50, 16)        1216      \n",
      "_________________________________________________________________\n",
      "conv2d_1 (Conv2D)            (None, 50, 50, 8)         136       \n",
      "_________________________________________________________________\n",
      "conv2d_2 (Conv2D)            (None, 50, 50, 16)        144       \n",
      "_________________________________________________________________\n",
      "batch_normalization (BatchNo (None, 50, 50, 16)        64        \n",
      "_________________________________________________________________\n",
      "max_pooling2d (MaxPooling2D) (None, 25, 25, 16)        0         \n",
      "_________________________________________________________________\n",
      "conv2d_3 (Conv2D)            (None, 25, 25, 32)        12832     \n",
      "_________________________________________________________________\n",
      "batch_normalization_1 (Batch (None, 25, 25, 32)        128       \n",
      "_________________________________________________________________\n",
      "max_pooling2d_1 (MaxPooling2 (None, 12, 12, 32)        0         \n",
      "_________________________________________________________________\n",
      "flatten (Flatten)            (None, 4608)              0         \n",
      "_________________________________________________________________\n",
      "dense (Dense)                (None, 100)               460900    \n",
      "_________________________________________________________________\n",
      "batch_normalization_2 (Batch (None, 100)               400       \n",
      "_________________________________________________________________\n",
      "dense_1 (Dense)              (None, 1)                 101       \n",
      "=================================================================\n",
      "Total params: 475,921\n",
      "Trainable params: 475,625\n",
      "Non-trainable params: 296\n",
      "_________________________________________________________________\n"
     ]
    }
   ],
   "source": [
    "model.add(tf.keras.layers.Dense(\n",
    "                        units=1,\n",
    "                        activation=tf.nn.relu,\n",
    "                        kernel_initializer=initializers.GlorotNormal(),\n",
    "                        bias_initializer=tf.zeros_initializer(),\n",
    "))\n",
    "model.summary()"
   ]
  },
  {
   "cell_type": "code",
   "execution_count": 21,
   "metadata": {},
   "outputs": [],
   "source": [
    "model.compile(optimizer=\"Adam\", loss=\"mse\", metrics=[\"mae\", \"acc\"])"
   ]
  },
  {
   "cell_type": "markdown",
   "metadata": {},
   "source": [
    "## Check physical devices "
   ]
  },
  {
   "cell_type": "code",
   "execution_count": 22,
   "metadata": {},
   "outputs": [
    {
     "name": "stdout",
     "output_type": "stream",
     "text": [
      "[PhysicalDevice(name='/physical_device:CPU:0', device_type='CPU'), PhysicalDevice(name='/physical_device:GPU:0', device_type='GPU')]\n"
     ]
    }
   ],
   "source": [
    "# Check if GPU is available\n",
    "print(tf.config.list_physical_devices())"
   ]
  },
  {
   "cell_type": "markdown",
   "metadata": {},
   "source": [
    "## Create callbacks"
   ]
  },
  {
   "cell_type": "code",
   "execution_count": 23,
   "metadata": {},
   "outputs": [],
   "source": [
    "datagen = ImageDataGenerator(\n",
    "                                shear_range = 0.2,\n",
    "                                zoom_range = 0.2,\n",
    "                                horizontal_flip = True)\n",
    "\n",
    "early_stopping = EarlyStopping(\n",
    "                                patience=5,\n",
    "                                min_delta = 0.01,\n",
    "                                verbose=1,\n",
    "                                mode = 'min',\n",
    "                                monitor='val_loss')\n",
    "\n",
    "reduce_learning_rate = ReduceLROnPlateau(\n",
    "                                monitor=\"val_loss\",\n",
    "                                patience=3,\n",
    "                                episilon= 0.01,\n",
    "                                factor=0.1,\n",
    "                                cooldown = 4,\n",
    "                                verbose=1)"
   ]
  },
  {
   "cell_type": "markdown",
   "metadata": {},
   "source": [
    "## Train model"
   ]
  },
  {
   "cell_type": "code",
   "execution_count": 24,
   "metadata": {},
   "outputs": [],
   "source": [
    "model_save_path = os.path.join(os.getcwd(), \"model\") "
   ]
  },
  {
   "cell_type": "code",
   "execution_count": 25,
   "metadata": {},
   "outputs": [
    {
     "name": "stdout",
     "output_type": "stream",
     "text": [
      "Epoch 1/50\n",
      "489/489 [==============================] - 32s 58ms/step - loss: 517.5413 - mae: 15.9358 - acc: 0.0139 - val_loss: 334.7079 - val_mae: 12.5856 - val_acc: 0.0066\n",
      "Epoch 2/50\n",
      "489/489 [==============================] - 27s 55ms/step - loss: 182.8907 - mae: 9.6810 - acc: 0.0096 - val_loss: 161.3767 - val_mae: 9.4094 - val_acc: 0.0222\n",
      "Epoch 3/50\n",
      "489/489 [==============================] - 27s 55ms/step - loss: 151.7380 - mae: 8.8197 - acc: 0.0141 - val_loss: 124.4009 - val_mae: 8.0362 - val_acc: 0.0151\n",
      "Epoch 4/50\n",
      "489/489 [==============================] - 27s 56ms/step - loss: 125.9868 - mae: 8.0517 - acc: 0.0145 - val_loss: 106.2623 - val_mae: 7.5469 - val_acc: 0.0197\n",
      "Epoch 5/50\n",
      "489/489 [==============================] - 28s 57ms/step - loss: 115.4864 - mae: 7.7317 - acc: 0.0196 - val_loss: 106.2567 - val_mae: 7.6961 - val_acc: 0.0353\n",
      "Epoch 6/50\n",
      "489/489 [==============================] - 28s 57ms/step - loss: 107.5289 - mae: 7.4651 - acc: 0.0189 - val_loss: 298.7245 - val_mae: 13.7742 - val_acc: 0.0583\n",
      "Epoch 7/50\n",
      "489/489 [==============================] - 27s 56ms/step - loss: 102.1268 - mae: 7.3134 - acc: 0.0224 - val_loss: 104.9638 - val_mae: 7.1687 - val_acc: 0.0074\n",
      "Epoch 8/50\n",
      "489/489 [==============================] - 27s 56ms/step - loss: 97.7209 - mae: 7.1569 - acc: 0.0204 - val_loss: 91.9074 - val_mae: 7.0767 - val_acc: 0.0427\n",
      "Epoch 9/50\n",
      "489/489 [==============================] - 27s 56ms/step - loss: 96.4524 - mae: 7.1110 - acc: 0.0231 - val_loss: 78.0260 - val_mae: 6.1877 - val_acc: 0.0087\n",
      "Epoch 10/50\n",
      "489/489 [==============================] - 28s 56ms/step - loss: 88.8004 - mae: 6.8619 - acc: 0.0196 - val_loss: 99.6162 - val_mae: 6.9522 - val_acc: 0.0194\n",
      "Epoch 11/50\n",
      "489/489 [==============================] - 27s 56ms/step - loss: 88.5499 - mae: 6.8134 - acc: 0.0214 - val_loss: 334.8639 - val_mae: 15.2229 - val_acc: 0.0926\n",
      "Epoch 12/50\n",
      "489/489 [==============================] - 27s 56ms/step - loss: 87.0005 - mae: 6.7782 - acc: 0.0203 - val_loss: 116.9225 - val_mae: 7.9794 - val_acc: 0.0453\n",
      "\n",
      "Epoch 00012: ReduceLROnPlateau reducing learning rate to 0.00010000000474974513.\n",
      "Epoch 13/50\n",
      "489/489 [==============================] - 28s 56ms/step - loss: 77.2988 - mae: 6.4146 - acc: 0.0206 - val_loss: 66.3620 - val_mae: 5.6754 - val_acc: 0.0089\n",
      "Epoch 14/50\n",
      "489/489 [==============================] - 27s 55ms/step - loss: 73.9394 - mae: 6.2925 - acc: 0.0205 - val_loss: 69.7683 - val_mae: 6.0181 - val_acc: 0.0238\n",
      "Epoch 15/50\n",
      "489/489 [==============================] - 27s 55ms/step - loss: 72.7075 - mae: 6.2240 - acc: 0.0222 - val_loss: 64.1827 - val_mae: 5.6752 - val_acc: 0.0164\n",
      "Epoch 16/50\n",
      "489/489 [==============================] - 27s 55ms/step - loss: 70.7568 - mae: 6.1330 - acc: 0.0193 - val_loss: 61.9239 - val_mae: 5.6086 - val_acc: 0.0141\n",
      "Epoch 17/50\n",
      "489/489 [==============================] - 27s 55ms/step - loss: 73.5814 - mae: 6.2740 - acc: 0.0221 - val_loss: 63.5905 - val_mae: 5.7007 - val_acc: 0.0161\n",
      "Epoch 18/50\n",
      "489/489 [==============================] - 27s 55ms/step - loss: 70.0136 - mae: 6.0979 - acc: 0.0217 - val_loss: 61.6518 - val_mae: 5.5359 - val_acc: 0.0123\n",
      "Epoch 19/50\n",
      "489/489 [==============================] - 27s 56ms/step - loss: 68.2945 - mae: 6.0376 - acc: 0.0208 - val_loss: 61.8678 - val_mae: 5.6066 - val_acc: 0.0166\n",
      "Epoch 20/50\n",
      "489/489 [==============================] - 27s 56ms/step - loss: 71.3565 - mae: 6.1509 - acc: 0.0223 - val_loss: 58.4677 - val_mae: 5.4976 - val_acc: 0.0125\n",
      "Epoch 21/50\n",
      "489/489 [==============================] - 27s 56ms/step - loss: 69.7982 - mae: 6.1229 - acc: 0.0219 - val_loss: 60.0671 - val_mae: 5.4596 - val_acc: 0.0120\n",
      "Epoch 22/50\n",
      "489/489 [==============================] - 27s 56ms/step - loss: 68.5428 - mae: 6.0843 - acc: 0.0219 - val_loss: 63.0642 - val_mae: 5.6424 - val_acc: 0.0153\n",
      "Epoch 23/50\n",
      "489/489 [==============================] - 27s 56ms/step - loss: 69.9068 - mae: 6.1260 - acc: 0.0209 - val_loss: 60.9499 - val_mae: 5.4611 - val_acc: 0.0133\n",
      "\n",
      "Epoch 00023: ReduceLROnPlateau reducing learning rate to 1.0000000474974514e-05.\n",
      "Epoch 24/50\n",
      "489/489 [==============================] - 27s 56ms/step - loss: 64.9469 - mae: 5.9294 - acc: 0.0208 - val_loss: 62.1292 - val_mae: 5.6403 - val_acc: 0.0166\n",
      "Epoch 25/50\n",
      "489/489 [==============================] - 28s 57ms/step - loss: 66.4459 - mae: 5.9747 - acc: 0.0226 - val_loss: 61.5556 - val_mae: 5.5988 - val_acc: 0.0153\n",
      "Epoch 00025: early stopping\n",
      "123/123 [==============================] - 1s 5ms/step - loss: 61.5556 - mae: 5.5988 - acc: 0.0153\n",
      "Epoch 1/50\n",
      "489/489 [==============================] - 28s 57ms/step - loss: 70.2301 - mae: 6.1368 - acc: 0.0230 - val_loss: 47.0442 - val_mae: 4.9707 - val_acc: 0.0138\n",
      "Epoch 2/50\n",
      "489/489 [==============================] - 28s 56ms/step - loss: 69.6359 - mae: 6.0458 - acc: 0.0221 - val_loss: 48.0699 - val_mae: 5.0031 - val_acc: 0.0161\n",
      "Epoch 3/50\n",
      "489/489 [==============================] - 28s 56ms/step - loss: 69.4551 - mae: 6.0437 - acc: 0.0215 - val_loss: 46.2483 - val_mae: 4.9413 - val_acc: 0.0141\n",
      "Epoch 4/50\n",
      "489/489 [==============================] - 28s 57ms/step - loss: 72.0973 - mae: 6.1863 - acc: 0.0226 - val_loss: 46.3760 - val_mae: 4.9175 - val_acc: 0.0125\n",
      "Epoch 5/50\n",
      "489/489 [==============================] - 27s 56ms/step - loss: 68.7105 - mae: 6.0526 - acc: 0.0230 - val_loss: 48.0657 - val_mae: 4.9859 - val_acc: 0.0146\n",
      "Epoch 6/50\n",
      "489/489 [==============================] - 27s 55ms/step - loss: 73.3185 - mae: 6.2282 - acc: 0.0216 - val_loss: 46.5107 - val_mae: 4.9718 - val_acc: 0.0146\n",
      "\n",
      "Epoch 00006: ReduceLROnPlateau reducing learning rate to 1.0000000656873453e-06.\n",
      "Epoch 7/50\n",
      "489/489 [==============================] - 27s 56ms/step - loss: 71.0706 - mae: 6.1245 - acc: 0.0216 - val_loss: 45.6612 - val_mae: 4.8861 - val_acc: 0.0130\n",
      "Epoch 8/50\n",
      "489/489 [==============================] - 28s 56ms/step - loss: 68.6822 - mae: 6.0304 - acc: 0.0209 - val_loss: 47.4876 - val_mae: 4.9620 - val_acc: 0.0146\n",
      "Epoch 9/50\n",
      "489/489 [==============================] - 27s 56ms/step - loss: 69.5628 - mae: 6.0900 - acc: 0.0225 - val_loss: 47.6323 - val_mae: 4.9677 - val_acc: 0.0148\n",
      "Epoch 10/50\n",
      "489/489 [==============================] - 28s 56ms/step - loss: 67.2231 - mae: 5.9858 - acc: 0.0214 - val_loss: 46.2751 - val_mae: 4.9149 - val_acc: 0.0143\n",
      "Epoch 11/50\n",
      "489/489 [==============================] - 27s 55ms/step - loss: 67.7421 - mae: 5.9795 - acc: 0.0217 - val_loss: 47.4524 - val_mae: 4.9861 - val_acc: 0.0153\n",
      "Epoch 12/50\n",
      "489/489 [==============================] - 27s 56ms/step - loss: 68.4784 - mae: 6.0294 - acc: 0.0219 - val_loss: 46.4619 - val_mae: 4.9263 - val_acc: 0.0151\n",
      "\n",
      "Epoch 00012: ReduceLROnPlateau reducing learning rate to 1.0000001111620805e-07.\n",
      "Epoch 00012: early stopping\n",
      "123/123 [==============================] - 1s 5ms/step - loss: 46.4619 - mae: 4.9263 - acc: 0.0151\n",
      "Epoch 1/50\n",
      "489/489 [==============================] - 28s 57ms/step - loss: 70.2320 - mae: 6.1038 - acc: 0.0214 - val_loss: 46.6243 - val_mae: 5.0667 - val_acc: 0.0151\n",
      "Epoch 2/50\n",
      "489/489 [==============================] - 27s 56ms/step - loss: 69.4039 - mae: 6.0668 - acc: 0.0212 - val_loss: 46.3632 - val_mae: 4.9556 - val_acc: 0.0128\n",
      "Epoch 3/50\n",
      "489/489 [==============================] - 27s 56ms/step - loss: 69.5968 - mae: 6.0831 - acc: 0.0221 - val_loss: 45.1276 - val_mae: 4.9683 - val_acc: 0.0136\n",
      "Epoch 4/50\n",
      "489/489 [==============================] - 27s 56ms/step - loss: 69.4116 - mae: 6.0608 - acc: 0.0203 - val_loss: 43.9021 - val_mae: 4.9046 - val_acc: 0.0133\n",
      "Epoch 5/50\n",
      "489/489 [==============================] - 27s 56ms/step - loss: 70.0839 - mae: 6.0905 - acc: 0.0231 - val_loss: 44.8955 - val_mae: 4.9595 - val_acc: 0.0143\n",
      "Epoch 6/50\n",
      "489/489 [==============================] - 28s 57ms/step - loss: 68.0048 - mae: 5.9927 - acc: 0.0199 - val_loss: 46.1792 - val_mae: 5.0065 - val_acc: 0.0143\n",
      "Epoch 7/50\n",
      "489/489 [==============================] - 28s 56ms/step - loss: 70.2853 - mae: 6.1207 - acc: 0.0215 - val_loss: 45.1621 - val_mae: 4.9329 - val_acc: 0.0123\n",
      "\n",
      "Epoch 00007: ReduceLROnPlateau reducing learning rate to 1.000000082740371e-08.\n",
      "Epoch 8/50\n"
     ]
    },
    {
     "name": "stdout",
     "output_type": "stream",
     "text": [
      "489/489 [==============================] - 27s 55ms/step - loss: 71.8376 - mae: 6.1798 - acc: 0.0214 - val_loss: 44.5199 - val_mae: 4.9369 - val_acc: 0.0136\n",
      "Epoch 9/50\n",
      "489/489 [==============================] - 27s 55ms/step - loss: 73.0420 - mae: 6.2203 - acc: 0.0217 - val_loss: 44.4708 - val_mae: 4.9407 - val_acc: 0.0133\n",
      "Epoch 00009: early stopping\n",
      "123/123 [==============================] - 1s 4ms/step - loss: 44.4708 - mae: 4.9407 - acc: 0.0133\n",
      "Epoch 1/50\n",
      "489/489 [==============================] - 28s 57ms/step - loss: 68.5440 - mae: 6.0460 - acc: 0.0208 - val_loss: 50.8023 - val_mae: 5.0183 - val_acc: 0.0125\n",
      "Epoch 2/50\n",
      "489/489 [==============================] - 27s 56ms/step - loss: 68.1583 - mae: 6.0278 - acc: 0.0215 - val_loss: 48.5013 - val_mae: 4.9348 - val_acc: 0.0123\n",
      "Epoch 3/50\n",
      "489/489 [==============================] - 28s 56ms/step - loss: 69.7126 - mae: 6.0561 - acc: 0.0222 - val_loss: 48.2788 - val_mae: 4.9701 - val_acc: 0.0107\n",
      "Epoch 4/50\n",
      "489/489 [==============================] - 27s 55ms/step - loss: 72.9899 - mae: 6.2334 - acc: 0.0231 - val_loss: 49.8968 - val_mae: 4.9319 - val_acc: 0.0120\n",
      "Epoch 5/50\n",
      "489/489 [==============================] - 27s 56ms/step - loss: 71.2377 - mae: 6.1607 - acc: 0.0231 - val_loss: 49.4136 - val_mae: 4.9943 - val_acc: 0.0105\n",
      "Epoch 6/50\n",
      "489/489 [==============================] - 27s 56ms/step - loss: 68.9763 - mae: 6.0718 - acc: 0.0201 - val_loss: 47.2513 - val_mae: 4.8888 - val_acc: 0.0097\n",
      "Epoch 7/50\n",
      "489/489 [==============================] - 28s 57ms/step - loss: 69.1862 - mae: 6.0732 - acc: 0.0218 - val_loss: 48.9579 - val_mae: 4.9334 - val_acc: 0.0102\n",
      "Epoch 8/50\n",
      "489/489 [==============================] - 27s 56ms/step - loss: 70.4454 - mae: 6.1265 - acc: 0.0207 - val_loss: 46.4226 - val_mae: 4.8753 - val_acc: 0.0092\n",
      "Epoch 9/50\n",
      "489/489 [==============================] - 28s 56ms/step - loss: 68.9883 - mae: 6.0535 - acc: 0.0210 - val_loss: 46.7188 - val_mae: 4.8800 - val_acc: 0.0092\n",
      "Epoch 10/50\n",
      "489/489 [==============================] - 27s 56ms/step - loss: 68.8277 - mae: 6.0696 - acc: 0.0200 - val_loss: 50.4854 - val_mae: 4.9879 - val_acc: 0.0110\n",
      "Epoch 11/50\n",
      "489/489 [==============================] - 27s 56ms/step - loss: 70.1481 - mae: 6.0937 - acc: 0.0222 - val_loss: 45.6963 - val_mae: 4.8279 - val_acc: 0.0090\n",
      "Epoch 12/50\n",
      "489/489 [==============================] - 28s 56ms/step - loss: 69.2167 - mae: 6.0400 - acc: 0.0228 - val_loss: 46.6351 - val_mae: 4.9019 - val_acc: 0.0110\n",
      "Epoch 13/50\n",
      "489/489 [==============================] - 27s 56ms/step - loss: 69.4223 - mae: 6.0650 - acc: 0.0207 - val_loss: 47.7714 - val_mae: 4.9500 - val_acc: 0.0118\n",
      "Epoch 14/50\n",
      "489/489 [==============================] - 27s 56ms/step - loss: 69.2375 - mae: 6.1019 - acc: 0.0226 - val_loss: 46.8376 - val_mae: 4.9065 - val_acc: 0.0100\n",
      "\n",
      "Epoch 00014: ReduceLROnPlateau reducing learning rate to 1.000000082740371e-09.\n",
      "Epoch 15/50\n",
      "489/489 [==============================] - 28s 56ms/step - loss: 68.7565 - mae: 6.0583 - acc: 0.0204 - val_loss: 48.5428 - val_mae: 4.9280 - val_acc: 0.0100\n",
      "Epoch 16/50\n",
      "489/489 [==============================] - 27s 56ms/step - loss: 70.0591 - mae: 6.1093 - acc: 0.0214 - val_loss: 47.6750 - val_mae: 4.9447 - val_acc: 0.0105\n",
      "Epoch 00016: early stopping\n",
      "123/123 [==============================] - 1s 4ms/step - loss: 47.6750 - mae: 4.9447 - acc: 0.0105\n",
      "Epoch 1/50\n",
      "489/489 [==============================] - 28s 56ms/step - loss: 70.4210 - mae: 6.1127 - acc: 0.0219 - val_loss: 44.7160 - val_mae: 4.9237 - val_acc: 0.0107\n",
      "Epoch 2/50\n",
      "489/489 [==============================] - 27s 56ms/step - loss: 70.4858 - mae: 6.1109 - acc: 0.0220 - val_loss: 45.1809 - val_mae: 4.9510 - val_acc: 0.0110\n",
      "Epoch 3/50\n",
      "489/489 [==============================] - 27s 56ms/step - loss: 68.8895 - mae: 6.0212 - acc: 0.0203 - val_loss: 44.9874 - val_mae: 4.9386 - val_acc: 0.0105\n",
      "Epoch 4/50\n",
      "489/489 [==============================] - 28s 57ms/step - loss: 68.2016 - mae: 5.9985 - acc: 0.0214 - val_loss: 44.6556 - val_mae: 4.9223 - val_acc: 0.0107\n",
      "Epoch 5/50\n",
      "489/489 [==============================] - 28s 56ms/step - loss: 70.2190 - mae: 6.1288 - acc: 0.0214 - val_loss: 44.3354 - val_mae: 4.8994 - val_acc: 0.0102\n",
      "Epoch 6/50\n",
      "489/489 [==============================] - 27s 56ms/step - loss: 68.6045 - mae: 6.0622 - acc: 0.0207 - val_loss: 44.0004 - val_mae: 4.8799 - val_acc: 0.0102\n",
      "Epoch 7/50\n",
      "489/489 [==============================] - 28s 56ms/step - loss: 68.4689 - mae: 6.0549 - acc: 0.0235 - val_loss: 46.2175 - val_mae: 5.0178 - val_acc: 0.0113\n",
      "Epoch 8/50\n",
      "489/489 [==============================] - 27s 55ms/step - loss: 70.2532 - mae: 6.0929 - acc: 0.0208 - val_loss: 44.7396 - val_mae: 4.9248 - val_acc: 0.0107\n",
      "Epoch 9/50\n",
      "489/489 [==============================] - 28s 56ms/step - loss: 70.2683 - mae: 6.1115 - acc: 0.0224 - val_loss: 44.1702 - val_mae: 4.8871 - val_acc: 0.0102\n",
      "\n",
      "Epoch 00009: ReduceLROnPlateau reducing learning rate to 1.000000082740371e-10.\n",
      "Epoch 10/50\n",
      "489/489 [==============================] - 28s 57ms/step - loss: 69.2288 - mae: 6.0866 - acc: 0.0215 - val_loss: 45.7046 - val_mae: 4.9905 - val_acc: 0.0115\n",
      "Epoch 11/50\n",
      "489/489 [==============================] - 27s 56ms/step - loss: 69.5284 - mae: 6.0643 - acc: 0.0202 - val_loss: 46.0677 - val_mae: 4.9968 - val_acc: 0.0110\n",
      "Epoch 00011: early stopping\n",
      "123/123 [==============================] - 1s 5ms/step - loss: 46.0677 - mae: 4.9968 - acc: 0.0110\n"
     ]
    }
   ],
   "source": [
    "cv_scores = []\n",
    "hostory_data = {}\n",
    "fold_num = 1\n",
    "for train_idx, test_idx in kfold.split(X, Y):\n",
    "    X_train, X_test = X[train_idx], X[test_idx]\n",
    "    Y_train, Y_test = Y[train_idx], Y[test_idx]\n",
    "\n",
    "    history = model.fit(datagen.flow(X_train, Y_train), \n",
    "                        epochs=50, \n",
    "                        validation_data=(X_test, Y_test), \n",
    "                        callbacks=[reduce_learning_rate, early_stopping])\n",
    "    model.save(os.path.join(model_save_path,f\"model_{fold_num}.tf\"),\n",
    "           overwrite=True,\n",
    "           include_optimizer=True,\n",
    "           save_format=\"h5\")\n",
    "    # Evaluate the model on the test set\n",
    "    accuracy = model.evaluate(X_test, Y_test)\n",
    "    cv_scores.append(accuracy)\n",
    "    hostory_data[fold_num] = {\"mae\" : history.history['mae'], \"val_mae\" : history.history['val_mae']}\n",
    "    fold_num += 1"
   ]
  },
  {
   "cell_type": "markdown",
   "metadata": {},
   "source": [
    "## Statistics "
   ]
  },
  {
   "cell_type": "code",
   "execution_count": 26,
   "metadata": {},
   "outputs": [],
   "source": [
    "cv_scores = np.array(cv_scores)\n",
    "split = np.hsplit(cv_scores, 3)\n",
    "loss_stats = split[0]\n",
    "mae_stats = split[1]\n",
    "acc_stats = split[2]"
   ]
  },
  {
   "cell_type": "code",
   "execution_count": 27,
   "metadata": {},
   "outputs": [
    {
     "name": "stdout",
     "output_type": "stream",
     "text": [
      "Cross-Validation MAE: 5.08 (+/- 0.26)\n"
     ]
    }
   ],
   "source": [
    "mean_accuracy = np.mean(mae_stats)\n",
    "std_accuracy = np.std(mae_stats)\n",
    "print(\"Cross-Validation MAE: %0.2f (+/- %0.2f)\" % (mean_accuracy, std_accuracy))"
   ]
  },
  {
   "cell_type": "code",
   "execution_count": 30,
   "metadata": {},
   "outputs": [
    {
     "data": {
      "image/png": "[encoded data removed]",
      "text/plain": [
       "<Figure size 640x480 with 1 Axes>"
      ]
     },
     "metadata": {},
     "output_type": "display_data"
    }
   ],
   "source": [
    "for item in hostory_data:\n",
    "    epochs = [i for i in range(0,len(hostory_data[item][\"mae\"]))]\n",
    "    plt.plot(epochs, hostory_data[item][\"mae\"], label=f'Train M_{item}')\n",
    "    plt.plot(epochs, hostory_data[item][\"val_mae\"], label=f'VAL M_{item}')\n",
    "    plt.title(f'Training and validation MAE for model {item}')\n",
    "    plt.legend()\n",
    "    plt.savefig(os.path.join(os.getcwd(), \"fig\", f\"fig_{item}.jpg\"))"
   ]
  }
 ],
 "metadata": {
  "kernelspec": {
   "display_name": "Python 3 (ipykernel)",
   "language": "python",
   "name": "python3"
  },
  "language_info": {
   "codemirror_mode": {
    "name": "ipython",
    "version": 3
   },
   "file_extension": ".py",
   "mimetype": "text/x-python",
   "name": "python",
   "nbconvert_exporter": "python",
   "pygments_lexer": "ipython3",
   "version": "3.9.16"
  }
 },
 "nbformat": 4,
 "nbformat_minor": 1
}
